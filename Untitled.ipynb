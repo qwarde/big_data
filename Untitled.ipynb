{
 "cells": [
  {
   "cell_type": "code",
   "execution_count": 1,
   "id": "73d7f65f",
   "metadata": {},
   "outputs": [],
   "source": [
    "import pandas as pd\n",
    "import matplotlib.pyplot as plt"
   ]
  },
  {
   "cell_type": "code",
   "execution_count": 2,
   "id": "4a8ef3d1",
   "metadata": {},
   "outputs": [],
   "source": [
    "airlines = pd.read_csv('airlines.csv')\n",
    "airports = pd.read_csv('airports.csv')\n",
    "flights = pd.read_csv('flights.csv', low_memory=False)\n",
    "\n",
    "airlines.columns = airlines.columns.str.lower()\n",
    "airports.columns = airports.columns.str.lower()\n",
    "flights.columns = flights.columns.str.lower()"
   ]
  },
  {
   "cell_type": "code",
   "execution_count": 3,
   "id": "bac6aa53",
   "metadata": {},
   "outputs": [
    {
     "data": {
      "text/plain": [
       "0    5729195\n",
       "1      89884\n",
       "Name: cancelled, dtype: int64"
      ]
     },
     "execution_count": 3,
     "metadata": {},
     "output_type": "execute_result"
    }
   ],
   "source": [
    "flights.cancelled.value_counts()"
   ]
  },
  {
   "cell_type": "code",
   "execution_count": 4,
   "id": "733a1af0",
   "metadata": {},
   "outputs": [
    {
     "data": {
      "image/png": "[encoded data removed]",
      "text/plain": [
       "<Figure size 1152x432 with 1 Axes>"
      ]
     },
     "metadata": {
      "needs_background": "light"
     },
     "output_type": "display_data"
    }
   ],
   "source": [
    "df_stat = flights['flight_number'].groupby(flights['month']).count()\n",
    "df_stat = df_stat.reset_index()\n",
    "df_stat = df_stat.rename(columns={'flight_number':'count_flights'})\n",
    "plt.figure(figsize=(16, 6))\n",
    "plt.suptitle('month',fontsize=18)\n",
    "plt.ylim(bottom  =400000, top = 550000 )\n",
    "plt.bar(df_stat['month'], df_stat.count_flights)\n",
    "plt.xlabel('Номер месяца')\n",
    "plt.ylabel('Количество')\n",
    "\n",
    "plt.show()"
   ]
  },
  {
   "cell_type": "code",
   "execution_count": 5,
   "id": "36b8c69e",
   "metadata": {},
   "outputs": [
    {
     "data": {
      "text/html": [
       "<div>\n",
       "<style scoped>\n",
       "    .dataframe tbody tr th:only-of-type {\n",
       "        vertical-align: middle;\n",
       "    }\n",
       "\n",
       "    .dataframe tbody tr th {\n",
       "        vertical-align: top;\n",
       "    }\n",
       "\n",
       "    .dataframe thead th {\n",
       "        text-align: right;\n",
       "    }\n",
       "</style>\n",
       "<table border=\"1\" class=\"dataframe\">\n",
       "  <thead>\n",
       "    <tr style=\"text-align: right;\">\n",
       "      <th></th>\n",
       "      <th>count_flights</th>\n",
       "    </tr>\n",
       "    <tr>\n",
       "      <th>day_of_week</th>\n",
       "      <th></th>\n",
       "    </tr>\n",
       "  </thead>\n",
       "  <tbody>\n",
       "    <tr>\n",
       "      <th>1</th>\n",
       "      <td>865543</td>\n",
       "    </tr>\n",
       "    <tr>\n",
       "      <th>2</th>\n",
       "      <td>844600</td>\n",
       "    </tr>\n",
       "    <tr>\n",
       "      <th>3</th>\n",
       "      <td>855897</td>\n",
       "    </tr>\n",
       "    <tr>\n",
       "      <th>4</th>\n",
       "      <td>872521</td>\n",
       "    </tr>\n",
       "    <tr>\n",
       "      <th>5</th>\n",
       "      <td>862209</td>\n",
       "    </tr>\n",
       "    <tr>\n",
       "      <th>6</th>\n",
       "      <td>700545</td>\n",
       "    </tr>\n",
       "    <tr>\n",
       "      <th>7</th>\n",
       "      <td>817764</td>\n",
       "    </tr>\n",
       "  </tbody>\n",
       "</table>\n",
       "</div>"
      ],
      "text/plain": [
       "             count_flights\n",
       "day_of_week               \n",
       "1                   865543\n",
       "2                   844600\n",
       "3                   855897\n",
       "4                   872521\n",
       "5                   862209\n",
       "6                   700545\n",
       "7                   817764"
      ]
     },
     "execution_count": 5,
     "metadata": {},
     "output_type": "execute_result"
    },
    {
     "data": {
      "image/png": "[encoded data removed]",
      "text/plain": [
       "<Figure size 576x432 with 1 Axes>"
      ]
     },
     "metadata": {
      "needs_background": "light"
     },
     "output_type": "display_data"
    }
   ],
   "source": [
    "df_stat = flights['flight_number'].groupby(flights['day_of_week']).count()\n",
    "df_stat = df_stat.reset_index()\n",
    "df_stat = df_stat.rename(columns={'flight_number':'count_flights'})\n",
    "plt.figure(figsize=(8, 6))\n",
    "plt.suptitle('day_of_week',fontsize=18)\n",
    "plt.ylim(bottom  =600000, top = 1000000 )\n",
    "plt.bar(df_stat['day_of_week'], df_stat.count_flights)\n",
    "\n",
    "df_stat.set_index('day_of_week')"
   ]
  },
  {
   "cell_type": "code",
   "execution_count": 6,
   "id": "4e50b4fb",
   "metadata": {},
   "outputs": [],
   "source": [
    "origin = flights.origin_airport.value_counts()\n",
    "destination = flights.destination_airport.value_counts()\n",
    "sum_flight = origin.append(destination)"
   ]
  },
  {
   "cell_type": "code",
   "execution_count": 7,
   "id": "7bbc80b9",
   "metadata": {},
   "outputs": [],
   "source": [
    "sum_flight = sum_flight.groupby(sum_flight.index).sum()"
   ]
  },
  {
   "cell_type": "code",
   "execution_count": 8,
   "id": "42bdc537",
   "metadata": {},
   "outputs": [],
   "source": [
    "airports_group = pd.DataFrame(sum_flight.sort_values(ascending=False), columns=['val'])\n",
    "group_city = airports.set_index('iata_code').join(airports_group, rsuffix='val')"
   ]
  },
  {
   "cell_type": "code",
   "execution_count": 9,
   "id": "dd8585f7",
   "metadata": {},
   "outputs": [
    {
     "data": {
      "text/html": [
       "<div>\n",
       "<style scoped>\n",
       "    .dataframe tbody tr th:only-of-type {\n",
       "        vertical-align: middle;\n",
       "    }\n",
       "\n",
       "    .dataframe tbody tr th {\n",
       "        vertical-align: top;\n",
       "    }\n",
       "\n",
       "    .dataframe thead th {\n",
       "        text-align: right;\n",
       "    }\n",
       "</style>\n",
       "<table border=\"1\" class=\"dataframe\">\n",
       "  <thead>\n",
       "    <tr style=\"text-align: right;\">\n",
       "      <th></th>\n",
       "      <th>val</th>\n",
       "    </tr>\n",
       "    <tr>\n",
       "      <th>city</th>\n",
       "      <th></th>\n",
       "    </tr>\n",
       "  </thead>\n",
       "  <tbody>\n",
       "    <tr>\n",
       "      <th>Chicago</th>\n",
       "      <td>733560</td>\n",
       "    </tr>\n",
       "    <tr>\n",
       "      <th>Atlanta</th>\n",
       "      <td>693740</td>\n",
       "    </tr>\n",
       "    <tr>\n",
       "      <th>Dallas-Fort Worth</th>\n",
       "      <td>479133</td>\n",
       "    </tr>\n",
       "    <tr>\n",
       "      <th>Houston</th>\n",
       "      <td>397388</td>\n",
       "    </tr>\n",
       "    <tr>\n",
       "      <th>Denver</th>\n",
       "      <td>392065</td>\n",
       "    </tr>\n",
       "    <tr>\n",
       "      <th>Los Angeles</th>\n",
       "      <td>389369</td>\n",
       "    </tr>\n",
       "    <tr>\n",
       "      <th>New York</th>\n",
       "      <td>386806</td>\n",
       "    </tr>\n",
       "    <tr>\n",
       "      <th>San Francisco</th>\n",
       "      <td>295974</td>\n",
       "    </tr>\n",
       "    <tr>\n",
       "      <th>Phoenix</th>\n",
       "      <td>293627</td>\n",
       "    </tr>\n",
       "    <tr>\n",
       "      <th>Las Vegas</th>\n",
       "      <td>266379</td>\n",
       "    </tr>\n",
       "  </tbody>\n",
       "</table>\n",
       "</div>"
      ],
      "text/plain": [
       "                      val\n",
       "city                     \n",
       "Chicago            733560\n",
       "Atlanta            693740\n",
       "Dallas-Fort Worth  479133\n",
       "Houston            397388\n",
       "Denver             392065\n",
       "Los Angeles        389369\n",
       "New York           386806\n",
       "San Francisco      295974\n",
       "Phoenix            293627\n",
       "Las Vegas          266379"
      ]
     },
     "execution_count": 9,
     "metadata": {},
     "output_type": "execute_result"
    }
   ],
   "source": [
    "cities=group_city['val'].groupby(group_city['city']).sum().sort_values(ascending=False).head(10)\n",
    "cities.to_frame()"
   ]
  },
  {
   "cell_type": "code",
   "execution_count": 10,
   "id": "879e140c",
   "metadata": {
    "scrolled": false
   },
   "outputs": [
    {
     "data": {
      "text/html": [
       "<div>\n",
       "<style scoped>\n",
       "    .dataframe tbody tr th:only-of-type {\n",
       "        vertical-align: middle;\n",
       "    }\n",
       "\n",
       "    .dataframe tbody tr th {\n",
       "        vertical-align: top;\n",
       "    }\n",
       "\n",
       "    .dataframe thead th {\n",
       "        text-align: right;\n",
       "    }\n",
       "</style>\n",
       "<table border=\"1\" class=\"dataframe\">\n",
       "  <thead>\n",
       "    <tr style=\"text-align: right;\">\n",
       "      <th></th>\n",
       "      <th>airline_cnt</th>\n",
       "      <th>airline</th>\n",
       "    </tr>\n",
       "  </thead>\n",
       "  <tbody>\n",
       "    <tr>\n",
       "      <th>WN</th>\n",
       "      <td>1261855</td>\n",
       "      <td>Southwest Airlines Co.</td>\n",
       "    </tr>\n",
       "    <tr>\n",
       "      <th>DL</th>\n",
       "      <td>875881</td>\n",
       "      <td>Delta Air Lines Inc.</td>\n",
       "    </tr>\n",
       "    <tr>\n",
       "      <th>AA</th>\n",
       "      <td>725984</td>\n",
       "      <td>American Airlines Inc.</td>\n",
       "    </tr>\n",
       "    <tr>\n",
       "      <th>OO</th>\n",
       "      <td>588353</td>\n",
       "      <td>Skywest Airlines Inc.</td>\n",
       "    </tr>\n",
       "    <tr>\n",
       "      <th>EV</th>\n",
       "      <td>571977</td>\n",
       "      <td>Atlantic Southeast Airlines</td>\n",
       "    </tr>\n",
       "    <tr>\n",
       "      <th>UA</th>\n",
       "      <td>515723</td>\n",
       "      <td>United Air Lines Inc.</td>\n",
       "    </tr>\n",
       "    <tr>\n",
       "      <th>MQ</th>\n",
       "      <td>294632</td>\n",
       "      <td>American Eagle Airlines Inc.</td>\n",
       "    </tr>\n",
       "    <tr>\n",
       "      <th>B6</th>\n",
       "      <td>267048</td>\n",
       "      <td>JetBlue Airways</td>\n",
       "    </tr>\n",
       "    <tr>\n",
       "      <th>US</th>\n",
       "      <td>198715</td>\n",
       "      <td>US Airways Inc.</td>\n",
       "    </tr>\n",
       "    <tr>\n",
       "      <th>AS</th>\n",
       "      <td>172521</td>\n",
       "      <td>Alaska Airlines Inc.</td>\n",
       "    </tr>\n",
       "  </tbody>\n",
       "</table>\n",
       "</div>"
      ],
      "text/plain": [
       "    airline_cnt                       airline\n",
       "WN      1261855        Southwest Airlines Co.\n",
       "DL       875881          Delta Air Lines Inc.\n",
       "AA       725984        American Airlines Inc.\n",
       "OO       588353         Skywest Airlines Inc.\n",
       "EV       571977   Atlantic Southeast Airlines\n",
       "UA       515723         United Air Lines Inc.\n",
       "MQ       294632  American Eagle Airlines Inc.\n",
       "B6       267048               JetBlue Airways\n",
       "US       198715               US Airways Inc.\n",
       "AS       172521          Alaska Airlines Inc."
      ]
     },
     "execution_count": 10,
     "metadata": {},
     "output_type": "execute_result"
    }
   ],
   "source": [
    "airlines_count = pd.DataFrame(flights.airline.value_counts())\n",
    "airlines_count = airlines_count.join(airlines.set_index('iata_code'),lsuffix='_cnt')\n",
    "airlines_count.head(10)"
   ]
  },
  {
   "cell_type": "code",
   "execution_count": 18,
   "id": "346770f0",
   "metadata": {},
   "outputs": [
    {
     "data": {
      "text/html": [
       "<div>\n",
       "<style scoped>\n",
       "    .dataframe tbody tr th:only-of-type {\n",
       "        vertical-align: middle;\n",
       "    }\n",
       "\n",
       "    .dataframe tbody tr th {\n",
       "        vertical-align: top;\n",
       "    }\n",
       "\n",
       "    .dataframe thead th {\n",
       "        text-align: right;\n",
       "    }\n",
       "</style>\n",
       "<table border=\"1\" class=\"dataframe\">\n",
       "  <thead>\n",
       "    <tr style=\"text-align: right;\">\n",
       "      <th></th>\n",
       "      <th>airport</th>\n",
       "      <th>arrival_delay</th>\n",
       "    </tr>\n",
       "    <tr>\n",
       "      <th>iata_code</th>\n",
       "      <th></th>\n",
       "      <th></th>\n",
       "    </tr>\n",
       "  </thead>\n",
       "  <tbody>\n",
       "    <tr>\n",
       "      <th>RKS</th>\n",
       "      <td>Rock Springs-Sweetwater County Airport</td>\n",
       "      <td>0.149254</td>\n",
       "    </tr>\n",
       "    <tr>\n",
       "      <th>RDD</th>\n",
       "      <td>Redding Municipal Airport</td>\n",
       "      <td>0.191218</td>\n",
       "    </tr>\n",
       "    <tr>\n",
       "      <th>BUF</th>\n",
       "      <td>Buffalo Niagara International Airport</td>\n",
       "      <td>0.295278</td>\n",
       "    </tr>\n",
       "    <tr>\n",
       "      <th>ITO</th>\n",
       "      <td>Hilo International Airport</td>\n",
       "      <td>0.343203</td>\n",
       "    </tr>\n",
       "    <tr>\n",
       "      <th>ECP</th>\n",
       "      <td>Northwest Florida Beaches International Airport</td>\n",
       "      <td>0.380043</td>\n",
       "    </tr>\n",
       "    <tr>\n",
       "      <th>PVD</th>\n",
       "      <td>Theodore Francis Green State Airport</td>\n",
       "      <td>0.400297</td>\n",
       "    </tr>\n",
       "    <tr>\n",
       "      <th>SYR</th>\n",
       "      <td>Syracuse Hancock International Airport</td>\n",
       "      <td>0.483569</td>\n",
       "    </tr>\n",
       "    <tr>\n",
       "      <th>PSC</th>\n",
       "      <td>Tri-Cities Airport</td>\n",
       "      <td>0.597744</td>\n",
       "    </tr>\n",
       "    <tr>\n",
       "      <th>GRI</th>\n",
       "      <td>Central Nebraska Regional Airport</td>\n",
       "      <td>0.701812</td>\n",
       "    </tr>\n",
       "    <tr>\n",
       "      <th>FAI</th>\n",
       "      <td>Fairbanks International Airport</td>\n",
       "      <td>0.706316</td>\n",
       "    </tr>\n",
       "  </tbody>\n",
       "</table>\n",
       "</div>"
      ],
      "text/plain": [
       "                                                   airport  arrival_delay\n",
       "iata_code                                                                \n",
       "RKS                 Rock Springs-Sweetwater County Airport       0.149254\n",
       "RDD                              Redding Municipal Airport       0.191218\n",
       "BUF                  Buffalo Niagara International Airport       0.295278\n",
       "ITO                             Hilo International Airport       0.343203\n",
       "ECP        Northwest Florida Beaches International Airport       0.380043\n",
       "PVD                   Theodore Francis Green State Airport       0.400297\n",
       "SYR                 Syracuse Hancock International Airport       0.483569\n",
       "PSC                                     Tri-Cities Airport       0.597744\n",
       "GRI                      Central Nebraska Regional Airport       0.701812\n",
       "FAI                        Fairbanks International Airport       0.706316"
      ]
     },
     "execution_count": 18,
     "metadata": {},
     "output_type": "execute_result"
    }
   ],
   "source": [
    "airports_delay = airports.set_index('iata_code').join(flights.arrival_delay.groupby(flights.origin_airport).mean(), rsuffix='val')\n",
    "airports_delay[airports_delay['arrival_delay']>0].nsmallest(10, 'arrival_delay')[['airport','arrival_delay']]"
   ]
  },
  {
   "cell_type": "code",
   "execution_count": 45,
   "id": "feafb660",
   "metadata": {},
   "outputs": [
    {
     "data": {
      "text/html": [
       "<div>\n",
       "<style scoped>\n",
       "    .dataframe tbody tr th:only-of-type {\n",
       "        vertical-align: middle;\n",
       "    }\n",
       "\n",
       "    .dataframe tbody tr th {\n",
       "        vertical-align: top;\n",
       "    }\n",
       "\n",
       "    .dataframe thead th {\n",
       "        text-align: right;\n",
       "    }\n",
       "</style>\n",
       "<table border=\"1\" class=\"dataframe\">\n",
       "  <thead>\n",
       "    <tr style=\"text-align: right;\">\n",
       "      <th></th>\n",
       "      <th>airport</th>\n",
       "      <th>arrival_delay</th>\n",
       "    </tr>\n",
       "    <tr>\n",
       "      <th>iata_code</th>\n",
       "      <th></th>\n",
       "      <th></th>\n",
       "    </tr>\n",
       "  </thead>\n",
       "  <tbody>\n",
       "    <tr>\n",
       "      <th>ATL</th>\n",
       "      <td>Hartsfield-Jackson Atlanta International Airport</td>\n",
       "      <td>3.046774</td>\n",
       "    </tr>\n",
       "    <tr>\n",
       "      <th>ORD</th>\n",
       "      <td>Chicago O'Hare International Airport</td>\n",
       "      <td>8.600790</td>\n",
       "    </tr>\n",
       "    <tr>\n",
       "      <th>DFW</th>\n",
       "      <td>Dallas/Fort Worth International Airport</td>\n",
       "      <td>6.918959</td>\n",
       "    </tr>\n",
       "    <tr>\n",
       "      <th>DEN</th>\n",
       "      <td>Denver International Airport</td>\n",
       "      <td>7.187909</td>\n",
       "    </tr>\n",
       "    <tr>\n",
       "      <th>LAX</th>\n",
       "      <td>Los Angeles International Airport</td>\n",
       "      <td>5.723421</td>\n",
       "    </tr>\n",
       "    <tr>\n",
       "      <th>SFO</th>\n",
       "      <td>San Francisco International Airport</td>\n",
       "      <td>5.750211</td>\n",
       "    </tr>\n",
       "    <tr>\n",
       "      <th>PHX</th>\n",
       "      <td>Phoenix Sky Harbor International Airport</td>\n",
       "      <td>4.392787</td>\n",
       "    </tr>\n",
       "    <tr>\n",
       "      <th>IAH</th>\n",
       "      <td>George Bush Intercontinental Airport</td>\n",
       "      <td>7.378270</td>\n",
       "    </tr>\n",
       "    <tr>\n",
       "      <th>LAS</th>\n",
       "      <td>McCarran International Airport</td>\n",
       "      <td>6.023337</td>\n",
       "    </tr>\n",
       "    <tr>\n",
       "      <th>MSP</th>\n",
       "      <td>Minneapolis-Saint Paul International Airport</td>\n",
       "      <td>1.967593</td>\n",
       "    </tr>\n",
       "  </tbody>\n",
       "</table>\n",
       "</div>"
      ],
      "text/plain": [
       "                                                    airport  arrival_delay\n",
       "iata_code                                                                 \n",
       "ATL        Hartsfield-Jackson Atlanta International Airport       3.046774\n",
       "ORD                    Chicago O'Hare International Airport       8.600790\n",
       "DFW                 Dallas/Fort Worth International Airport       6.918959\n",
       "DEN                            Denver International Airport       7.187909\n",
       "LAX                       Los Angeles International Airport       5.723421\n",
       "SFO                     San Francisco International Airport       5.750211\n",
       "PHX                Phoenix Sky Harbor International Airport       4.392787\n",
       "IAH                    George Bush Intercontinental Airport       7.378270\n",
       "LAS                          McCarran International Airport       6.023337\n",
       "MSP            Minneapolis-Saint Paul International Airport       1.967593"
      ]
     },
     "execution_count": 45,
     "metadata": {},
     "output_type": "execute_result"
    }
   ],
   "source": [
    "top_airports=airports.set_index('iata_code').join(flights.groupby(flights.origin_airport).count(), rsuffix='val')[['day']].rename(columns={'day':'count'})\n",
    "top_airports=top_airports.join(airports_delay).sort_values(by='count',ascending=False).head(10)[['airport','arrival_delay']]\n",
    "top_airports"
   ]
  },
  {
   "cell_type": "code",
   "execution_count": 46,
   "id": "2981ab77",
   "metadata": {},
   "outputs": [
    {
     "data": {
      "text/plain": [
       "5.699005075722151"
      ]
     },
     "execution_count": 46,
     "metadata": {},
     "output_type": "execute_result"
    }
   ],
   "source": [
    "top_airports.arrival_delay.mean()"
   ]
  },
  {
   "cell_type": "code",
   "execution_count": 13,
   "id": "b9bb03db",
   "metadata": {},
   "outputs": [
    {
     "data": {
      "text/html": [
       "<div>\n",
       "<style scoped>\n",
       "    .dataframe tbody tr th:only-of-type {\n",
       "        vertical-align: middle;\n",
       "    }\n",
       "\n",
       "    .dataframe tbody tr th {\n",
       "        vertical-align: top;\n",
       "    }\n",
       "\n",
       "    .dataframe thead th {\n",
       "        text-align: right;\n",
       "    }\n",
       "</style>\n",
       "<table border=\"1\" class=\"dataframe\">\n",
       "  <thead>\n",
       "    <tr style=\"text-align: right;\">\n",
       "      <th></th>\n",
       "      <th>iata_code</th>\n",
       "      <th>airport</th>\n",
       "      <th>city</th>\n",
       "      <th>state</th>\n",
       "      <th>country</th>\n",
       "      <th>latitude</th>\n",
       "      <th>longitude</th>\n",
       "    </tr>\n",
       "  </thead>\n",
       "  <tbody>\n",
       "    <tr>\n",
       "      <th>202</th>\n",
       "      <td>MHT</td>\n",
       "      <td>Manchester-Boston Regional Airport</td>\n",
       "      <td>Manchester</td>\n",
       "      <td>NH</td>\n",
       "      <td>USA</td>\n",
       "      <td>42.93452</td>\n",
       "      <td>-71.43706</td>\n",
       "    </tr>\n",
       "  </tbody>\n",
       "</table>\n",
       "</div>"
      ],
      "text/plain": [
       "    iata_code                             airport        city state country  \\\n",
       "202       MHT  Manchester-Boston Regional Airport  Manchester    NH     USA   \n",
       "\n",
       "     latitude  longitude  \n",
       "202  42.93452  -71.43706  "
      ]
     },
     "execution_count": 13,
     "metadata": {},
     "output_type": "execute_result"
    }
   ],
   "source": [
    "airports[airports.index == 202]"
   ]
  },
  {
   "cell_type": "code",
   "execution_count": 52,
   "id": "ea0fcc22",
   "metadata": {},
   "outputs": [
    {
     "data": {
      "text/plain": [
       "DL    0.047404\n",
       "EV    6.113949\n",
       "WN    8.314766\n",
       "Name: arrival_delay, dtype: float64"
      ]
     },
     "execution_count": 52,
     "metadata": {},
     "output_type": "execute_result"
    }
   ],
   "source": [
    "mht_arival = flights[flights.destination_airport=='MHT']\n",
    "airlines_delay = mht_arival.set_index('airline').join(airlines.set_index('iata_code'),lsuffix='_code')\n",
    "airlines_delay = airlines_delay.arrival_delay.groupby(by=airlines_delay.index).mean()\n",
    "airlines_delay"
   ]
  },
  {
   "cell_type": "code",
   "execution_count": 15,
   "id": "3fbf0d69",
   "metadata": {},
   "outputs": [
    {
     "data": {
      "text/plain": [
       "9    Delta Air Lines Inc.\n",
       "Name: airline, dtype: object"
      ]
     },
     "execution_count": 15,
     "metadata": {},
     "output_type": "execute_result"
    }
   ],
   "source": [
    "airlines[airlines['iata_code']=='DL'].airline"
   ]
  },
  {
   "cell_type": "code",
   "execution_count": 64,
   "id": "587ca8cd",
   "metadata": {},
   "outputs": [
    {
     "data": {
      "text/html": [
       "<div>\n",
       "<style scoped>\n",
       "    .dataframe tbody tr th:only-of-type {\n",
       "        vertical-align: middle;\n",
       "    }\n",
       "\n",
       "    .dataframe tbody tr th {\n",
       "        vertical-align: top;\n",
       "    }\n",
       "\n",
       "    .dataframe thead th {\n",
       "        text-align: right;\n",
       "    }\n",
       "</style>\n",
       "<table border=\"1\" class=\"dataframe\">\n",
       "  <thead>\n",
       "    <tr style=\"text-align: right;\">\n",
       "      <th></th>\n",
       "      <th>arrival_delay</th>\n",
       "      <th>airport</th>\n",
       "    </tr>\n",
       "  </thead>\n",
       "  <tbody>\n",
       "    <tr>\n",
       "      <th>JFK</th>\n",
       "      <td>17.876018</td>\n",
       "      <td>John F. Kennedy International Airport (New Yor...</td>\n",
       "    </tr>\n",
       "  </tbody>\n",
       "</table>\n",
       "</div>"
      ],
      "text/plain": [
       "     arrival_delay                                            airport\n",
       "JFK      17.876018  John F. Kennedy International Airport (New Yor..."
      ]
     },
     "execution_count": 64,
     "metadata": {},
     "output_type": "execute_result"
    }
   ],
   "source": [
    "airport_taxing_out = flights.taxi_out.groupby(flights.origin_airport).mean()\n",
    "airport_taxing_in = flights.taxi_in.groupby(flights.destination_airport).mean()\n",
    "airport_taxing = airport_taxing_out.append(airport_taxing_in)\n",
    "airport_taxing = airport_taxing.groupby(airport_taxing.index).mean()\n",
    "\n",
    "airport_taxing.nlargest(1).to_frame(name='arrival_delay').join(airports.set_index('iata_code'))[['arrival_delay','airport']]"
   ]
  }
 ],
 "metadata": {
  "kernelspec": {
   "display_name": "Python 3",
   "language": "python",
   "name": "python3"
  },
  "language_info": {
   "codemirror_mode": {
    "name": "ipython",
    "version": 3
   },
   "file_extension": ".py",
   "mimetype": "text/x-python",
   "name": "python",
   "nbconvert_exporter": "python",
   "pygments_lexer": "ipython3",
   "version": "3.8.8"
  }
 },
 "nbformat": 4,
 "nbformat_minor": 5
}
